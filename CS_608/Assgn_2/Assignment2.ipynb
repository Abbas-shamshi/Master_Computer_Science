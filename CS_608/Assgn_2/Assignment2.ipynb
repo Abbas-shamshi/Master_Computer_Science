{
 "cells": [
  {
   "cell_type": "code",
   "execution_count": 1,
   "metadata": {
    "scrolled": false
   },
   "outputs": [
    {
     "name": "stdout",
     "output_type": "stream",
     "text": [
      "\n",
      "Printing the whole shuffled Deck: \n",
      "2 of Spade\n",
      "Queen of Hearts\n",
      "10 of Hearts\n",
      "9 of Hearts\n",
      "6 of Diamond\n",
      "King of Hearts\n",
      "King of Diamond\n",
      "8 of Club\n",
      "8 of Spade\n",
      "9 of Diamond\n",
      "5 of Club\n",
      "10 of Spade\n",
      "King of Spade\n",
      "2 of Club\n",
      "10 of Club\n",
      "Jack of Hearts\n",
      "5 of Diamond\n",
      "9 of Club\n",
      "Ace of Diamond\n",
      "7 of Diamond\n",
      "4 of Hearts\n",
      "Ace of Hearts\n",
      "Queen of Diamond\n",
      "Jack of Spade\n",
      "King of Club\n",
      "2 of Hearts\n",
      "5 of Spade\n",
      "5 of Hearts\n",
      "9 of Spade\n",
      "3 of Club\n",
      "Ace of Spade\n",
      "7 of Club\n",
      "Jack of Club\n",
      "4 of Spade\n",
      "6 of Hearts\n",
      "6 of Club\n",
      "3 of Diamond\n",
      "7 of Spade\n",
      "2 of Diamond\n",
      "8 of Hearts\n",
      "10 of Diamond\n",
      "Jack of Diamond\n",
      "Queen of Spade\n",
      "6 of Spade\n",
      "3 of Spade\n",
      "4 of Diamond\n",
      "3 of Hearts\n",
      "Queen of Club\n",
      "4 of Club\n",
      "7 of Hearts\n",
      "8 of Diamond\n",
      "Ace of Club\n",
      "\n",
      "\n",
      "Printing the length of Deck :  52\n",
      "\n",
      "\n",
      "Randamly selecting one card from shuffled deck \n",
      "5 of Hearts\n"
     ]
    }
   ],
   "source": [
    "import random\n",
    "\n",
    "\n",
    "class Deck():\n",
    "    cardRanks = [\"Ace\", \"2\", \"3\", \"4\", \"5\", \"6\", \"7\", \"8\", \"9\", \"10\",\"Jack\", \"Queen\", \"King\"]\n",
    "    cardType = ['Spade', 'Diamond', 'Hearts', 'Club']\n",
    "    shuffleList = []       \n",
    "\n",
    "    \n",
    "    def Shuffle(self):\n",
    "        for x in self.cardRanks:\n",
    "            for y in self.cardType:\n",
    "                self.shuffleList.append(x+\" of \" + y)\n",
    "        random.shuffle(self.shuffleList)\n",
    "        \n",
    "        print(\"\\nPrinting the whole shuffled Deck: \")\n",
    "        for card in self.shuffleList:\n",
    "            print(card)\n",
    "            \n",
    "        print(\"\\n\\nPrinting the length of Deck : \", len(self.shuffleList))\n",
    "    \n",
    "        print(\"\\n\\nRandamly selecting one card from shuffled deck \")\n",
    "        print(self.shuffleList[random.randint(0, len(self.shuffleList)-1)])\n",
    "        \n",
    "\n",
    "Deck().Shuffle()\n",
    "\n",
    "\n",
    "\n",
    "\n",
    "\n"
   ]
  },
  {
   "cell_type": "code",
   "execution_count": null,
   "metadata": {},
   "outputs": [],
   "source": []
  },
  {
   "cell_type": "code",
   "execution_count": null,
   "metadata": {},
   "outputs": [],
   "source": []
  },
  {
   "cell_type": "code",
   "execution_count": null,
   "metadata": {},
   "outputs": [],
   "source": []
  },
  {
   "cell_type": "code",
   "execution_count": null,
   "metadata": {},
   "outputs": [],
   "source": []
  }
 ],
 "metadata": {
  "kernelspec": {
   "display_name": "Python 3",
   "language": "python",
   "name": "python3"
  },
  "language_info": {
   "codemirror_mode": {
    "name": "ipython",
    "version": 3
   },
   "file_extension": ".py",
   "mimetype": "text/x-python",
   "name": "python",
   "nbconvert_exporter": "python",
   "pygments_lexer": "ipython3",
   "version": "3.7.3"
  }
 },
 "nbformat": 4,
 "nbformat_minor": 2
}
